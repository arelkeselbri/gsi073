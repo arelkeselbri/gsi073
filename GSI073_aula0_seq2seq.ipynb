{
  "nbformat": 4,
  "nbformat_minor": 0,
  "metadata": {
    "colab": {
      "private_outputs": true,
      "provenance": [],
      "authorship_tag": "ABX9TyO4twOPszORO3J0b6vgS3yZ",
      "include_colab_link": true
    },
    "kernelspec": {
      "name": "python3",
      "display_name": "Python 3"
    },
    "language_info": {
      "name": "python"
    }
  },
  "cells": [
    {
      "cell_type": "markdown",
      "metadata": {
        "id": "view-in-github",
        "colab_type": "text"
      },
      "source": [
        "<a href=\"https://colab.research.google.com/github/arelkeselbri/gsi073/blob/main/GSI073_aula0_seq2seq.ipynb\" target=\"_parent\"><img src=\"https://colab.research.google.com/assets/colab-badge.svg\" alt=\"Open In Colab\"/></a>"
      ]
    },
    {
      "cell_type": "markdown",
      "source": [
        "# Preparação dos dados\n",
        "\n",
        "Esta tarefa é inverter sequências de caracteres. Exemplo: **aabcd** em **dcbaa**.\n"
      ],
      "metadata": {
        "id": "o8ZBsZcshFv_"
      }
    },
    {
      "cell_type": "code",
      "source": [
        "import torch\n",
        "import torch.nn as nn\n",
        "import random\n",
        "\n",
        "chars = list(\"abcde \")\n",
        "vocab = {ch: i for i, ch in enumerate(chars)} # Cada letra, ganha um número\n",
        "inv_vocab = {i: ch for ch, i in vocab.items()}# Tabela de decodificação\n",
        "vocab_size = len(vocab)\n",
        "\n",
        "def encode(s): # Codifica letras em números\n",
        "    return torch.tensor([vocab[c] for c in s], dtype=torch.long)\n",
        "\n",
        "def decode(t): # Decodifica números em letras\n",
        "    return ''.join(inv_vocab[int(x)] for x in t)\n",
        "\n",
        "def random_seq(n=5): # Cria novas sequências\n",
        "    return ''.join(random.choice(chars[:-1]) for _ in range(n))\n",
        "\n",
        "# Gerar dados\n",
        "pairs = [(encode(s), encode(s[::-1])) for s in [random_seq() for _ in range(50000)]]\n",
        "\n",
        "max_len = max(len(x) for x, _ in pairs) # pega maior sequência\n",
        "\n",
        "def pad(x):  # Preenche conjunto de dados em pad no último índice\n",
        "    return torch.cat([x, torch.tensor([vocab[' ']] * (max_len - len(x)))], dim=0)\n",
        "\n",
        "inputs = torch.stack([pad(x) for x, _ in pairs])\n",
        "targets = torch.stack([pad(y) for _, y in pairs])\n",
        "\n",
        "train_ds = torch.utils.data.TensorDataset(inputs, targets)\n",
        "train_dl = torch.utils.data.DataLoader(train_ds, batch_size=128, shuffle=True)\n",
        "\n",
        "device = 'cuda' if torch.cuda.is_available() else 'cpu'"
      ],
      "metadata": {
        "id": "ylarIE4Wd0ME"
      },
      "execution_count": null,
      "outputs": []
    },
    {
      "cell_type": "markdown",
      "source": [
        "## Veja um par"
      ],
      "metadata": {
        "id": "P43qdDKt59V9"
      }
    },
    {
      "cell_type": "code",
      "source": [
        "print(pairs[1])"
      ],
      "metadata": {
        "id": "H9GyPfjahI_g"
      },
      "execution_count": null,
      "outputs": []
    },
    {
      "cell_type": "markdown",
      "source": [
        "# Definição do modelo Seq2Seq com GRU"
      ],
      "metadata": {
        "id": "A5ddkeXUhDBz"
      }
    },
    {
      "cell_type": "code",
      "source": [
        "class Encoder(nn.Module):\n",
        "    def __init__(self, vocab_size, emb_size, hidden_size):\n",
        "        super().__init__()\n",
        "        self.embed = nn.Embedding(vocab_size, emb_size)\n",
        "        self.gru = nn.GRU(emb_size, hidden_size, batch_first=True)\n",
        "\n",
        "    def forward(self, x):\n",
        "        x = self.embed(x)\n",
        "        _, h = self.gru(x)\n",
        "        return h  # [1, B, H]\n",
        "\n",
        "class Decoder(nn.Module):\n",
        "    def __init__(self, vocab_size, emb_size, hidden_size):\n",
        "        super().__init__()\n",
        "        self.embed = nn.Embedding(vocab_size, emb_size)\n",
        "        self.gru = nn.GRU(emb_size, hidden_size, batch_first=True)\n",
        "        self.fc = nn.Linear(hidden_size, vocab_size)\n",
        "\n",
        "    def forward(self, x, h):\n",
        "        \"\"\"\n",
        "        x: tensor que indica a parte prévia correta\n",
        "        h: tensor que indica o estado do encoder da parte prévia\n",
        "        \"\"\"\n",
        "        x = self.embed(x)\n",
        "        out, h = self.gru(x, h)\n",
        "        logits = self.fc(out)\n",
        "        return logits, h # retorna o estado latente para atualizar o estado\n",
        "\n",
        "class Seq2Seq(nn.Module):\n",
        "    def __init__(self, encoder, decoder):\n",
        "        super().__init__()\n",
        "        self.encoder = encoder\n",
        "        self.decoder = decoder\n",
        "\n",
        "    def forward(self, src, tgt):\n",
        "        h = self.encoder(src)\n",
        "        # usa contexto correto anterior e estado atual para prever o tgt[:, -1]\n",
        "        logits, _ = self.decoder(tgt[:, :-1], h)\n",
        "        return logits"
      ],
      "metadata": {
        "id": "d-1LP2kIdh4m"
      },
      "execution_count": null,
      "outputs": []
    },
    {
      "cell_type": "markdown",
      "source": [
        "# Código para usar o modelo treinado: inferência"
      ],
      "metadata": {
        "id": "o39huAV1soHW"
      }
    },
    {
      "cell_type": "code",
      "source": [
        "def decode_step(decoder, token, h):\n",
        "    logits, h = decoder(token, h) # obtém logits e atualiza estado da sequência\n",
        "    next_token = logits[:, -1, :].argmax(-1, keepdim=True)\n",
        "    return next_token, h\n",
        "\n",
        "def predict(model, seq, max_len=10):\n",
        "    model.eval()\n",
        "    with torch.no_grad():\n",
        "        src = pad(encode(seq)).unsqueeze(0).to(device, dtype=torch.long)\n",
        "        h = model.encoder(src) # Obtém estado do modelo após processar entrada inicial\n",
        "\n",
        "        # 'token' representa a geração passo a passo da sequência invertida\n",
        "        token = torch.tensor([[vocab[' ']]], dtype=torch.long, device=device)\n",
        "        seq_invertida = []\n",
        "        for _ in range(max_len):\n",
        "            token, h = decode_step(model.decoder, token, h)\n",
        "            seq_invertida.append(token.item())\n",
        "        return decode(seq_invertida)"
      ],
      "metadata": {
        "id": "x6MshjDHsnbW"
      },
      "execution_count": null,
      "outputs": []
    },
    {
      "cell_type": "markdown",
      "source": [
        "# Preparação para treino"
      ],
      "metadata": {
        "id": "qVzYCLNjg_ce"
      }
    },
    {
      "cell_type": "code",
      "source": [
        "emb_size = 32\n",
        "hidden_size = 64\n",
        "encoder = Encoder(vocab_size, emb_size, hidden_size)\n",
        "decoder = Decoder(vocab_size, emb_size, hidden_size)\n",
        "model = Seq2Seq(encoder, decoder).to(device)\n",
        "\n",
        "loss_fn = nn.CrossEntropyLoss(ignore_index=vocab[' ']) # ignora o pad: \" \"\n",
        "opt = torch.optim.Adam(model.parameters(), lr=1e-3)"
      ],
      "metadata": {
        "id": "-abFA-NmeJzK"
      },
      "execution_count": null,
      "outputs": []
    },
    {
      "cell_type": "markdown",
      "source": [
        "# Execução do treino"
      ],
      "metadata": {
        "id": "JacyZGK940n-"
      }
    },
    {
      "cell_type": "code",
      "source": [
        "for epoch in range(20):\n",
        "    model.train()\n",
        "    total_loss = 0\n",
        "    for xb, yb in train_dl:\n",
        "        xb, yb = xb.to(device, dtype=torch.long), yb.to(device, dtype=torch.long)\n",
        "        opt.zero_grad()\n",
        "        logits = model(xb, yb)\n",
        "        loss = loss_fn(logits.reshape(-1, vocab_size), yb[:, 1:].reshape(-1))\n",
        "        loss.backward()\n",
        "        opt.step()\n",
        "        total_loss += loss.item()\n",
        "    print(f\"Epoch {epoch+1}: loss={total_loss/len(train_dl):.4f}\")"
      ],
      "metadata": {
        "id": "rKl4t82iePsE"
      },
      "execution_count": null,
      "outputs": []
    },
    {
      "cell_type": "markdown",
      "source": [
        "# Vamos testar"
      ],
      "metadata": {
        "id": "-hnWdfoq4xL_"
      }
    },
    {
      "cell_type": "code",
      "source": [
        "for _ in range(10):\n",
        "    s = random_seq()\n",
        "    pred = predict(model, s, max_len=len(s))\n",
        "    print(f\"{s} -> {pred}\")\n"
      ],
      "metadata": {
        "id": "MDDLTV7CeVa7"
      },
      "execution_count": null,
      "outputs": []
    }
  ]
}