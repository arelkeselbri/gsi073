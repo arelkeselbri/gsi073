{
  "nbformat": 4,
  "nbformat_minor": 0,
  "metadata": {
    "colab": {
      "private_outputs": true,
      "provenance": []
    },
    "kernelspec": {
      "name": "python3",
      "display_name": "Python 3"
    },
    "language_info": {
      "name": "python"
    }
  },
  "cells": [
    {
      "cell_type": "markdown",
      "source": [
        "# GSI073 - Tópicos Especiais de Inteligência Artificial\n",
        "\n",
        "## Definição dos dados"
      ],
      "metadata": {
        "id": "Mwsc0ViVertv"
      }
    },
    {
      "cell_type": "code",
      "execution_count": null,
      "metadata": {
        "id": "OmZxMYLGefOh"
      },
      "outputs": [],
      "source": [
        "import torch; import sklearn; from torch import nn\n",
        "from sklearn.model_selection import train_test_split\n",
        "\n",
        "# 1. Carregar dados\n",
        "iris = sklearn.datasets.load_iris()\n",
        "X = iris.data        # 4 features: sépalas e pétalas\n",
        "y = (iris.target == 1).astype(float)  # 1 se Versicolor, 0 caso contrário\n",
        "\n",
        "# 2. Preparar dados para pytorch e dividir em treino e teste\n",
        "X = torch.tensor(X, dtype=torch.float32)\n",
        "y = torch.tensor(y, dtype=torch.float32).view(-1, 1)\n",
        "\n",
        "X_train, X_test, y_train, y_test = train_test_split(X, y, test_size=0.2, random_state=42)"
      ]
    },
    {
      "cell_type": "code",
      "metadata": {
        "id": "7102fefa"
      },
      "source": [
        "from sklearn.metrics import roc_curve, auc\n",
        "\n",
        "# Get the predicted probabilities for the positive class\n",
        "with torch.no_grad():\n",
        "    outputs = modelo(X_test)\n",
        "    probabilities = torch.sigmoid(outputs).numpy().flatten()\n",
        "\n",
        "# Calculate the ROC curve and AUC\n",
        "fpr, tpr, thresholds = roc_curve(y_test.numpy(), probabilities)\n",
        "roc_auc = auc(fpr, tpr)\n",
        "\n",
        "# Plot the ROC curve\n",
        "plt.figure(figsize=(6, 4))\n",
        "plt.plot(fpr, tpr, color='darkorange', lw=2, label='ROC curve (area = %0.2f)' % roc_auc)\n",
        "plt.plot([0, 1], [0, 1], color='navy', lw=2, linestyle='--')\n",
        "plt.xlim([0.0, 1.0])\n",
        "plt.ylim([0.0, 1.05])\n",
        "plt.xlabel('False Positive Rate')\n",
        "plt.ylabel('True Positive Rate')\n",
        "plt.title('Receiver Operating Characteristic (ROC) Curve')\n",
        "plt.legend(loc=\"lower right\")\n",
        "plt.show()"
      ],
      "execution_count": null,
      "outputs": []
    },
    {
      "cell_type": "markdown",
      "source": [
        "## Definição do modelo e treinamento"
      ],
      "metadata": {
        "id": "nUv-LKlIe9Id"
      }
    },
    {
      "cell_type": "code",
      "source": [
        "# 3. Definir modelo\n",
        "import torch.nn.functional as F\n",
        "class RedeNeural(nn.Module):\n",
        "    def __init__(self, input_dim, hidden_dim, output_dim):\n",
        "        super(RedeNeural, self).__init__()\n",
        "        self.fc1 = nn.Linear(input_dim, hidden_dim)\n",
        "        self.fc2 = nn.Linear(hidden_dim, output_dim)\n",
        "\n",
        "    def forward(self, x):\n",
        "        x = F.relu(self.fc1(x))\n",
        "        x = self.fc2(x)\n",
        "        return x"
      ],
      "metadata": {
        "id": "eg97DxIbe0tV"
      },
      "execution_count": null,
      "outputs": []
    },
    {
      "cell_type": "code",
      "source": [
        "# Criar modelo\n",
        "modelo = RedeNeural(4, 8, 1)  # 4 features → 1 saída (probabilidade de ser Versicolor)\n",
        "\n",
        "import copy\n",
        "modelo_clonado = copy.deepcopy(modelo)\n",
        "\n",
        "learning_rate = 0.1\n",
        "\n",
        "# Definir função de perda e algoritmo de otimização\n",
        "funcao_perda = torch.nn.BCEWithLogitsLoss()  # combinação de sigmoid + BCE\n",
        "optimizer = torch.optim.SGD(modelo.parameters(), lr=learning_rate)"
      ],
      "metadata": {
        "id": "muU3pzeUFhHK"
      },
      "execution_count": null,
      "outputs": []
    },
    {
      "cell_type": "markdown",
      "source": [
        "## Execução do treinamento com optimizer SGD"
      ],
      "metadata": {
        "id": "Agjn3aQxfHOO"
      }
    },
    {
      "cell_type": "code",
      "source": [
        "# Loop de treino\n",
        "for epoch in range(1000):\n",
        "    optimizer.zero_grad()           # Limpa gradientes\n",
        "    outputs = modelo(X_train)             # Forward\n",
        "    loss = funcao_perda(outputs, y_train) # Calcula perda\n",
        "    loss.backward()                 # Calcula derivadas do gradiente\n",
        "    optimizer.step()                # Aplica regra de alteração dos parâmetros\n",
        "\n",
        "    if (epoch + 1) % 100 == 0:\n",
        "        print(f\"Época [{epoch+1}/100], Loss: {loss.item():.4f}\")"
      ],
      "metadata": {
        "id": "uuksjyq7e4Mt"
      },
      "execution_count": null,
      "outputs": []
    },
    {
      "cell_type": "markdown",
      "source": [
        "# Treino com regra de gradiente descendente manual"
      ],
      "metadata": {
        "id": "SVolkVjiNEa6"
      }
    },
    {
      "cell_type": "code",
      "source": [
        "for epoch in range(1000):\n",
        "    optimizer.zero_grad()           # Limpa gradientes\n",
        "    outputs = modelo_clonado(X_train)     # Forward\n",
        "    loss = funcao_perda(outputs, y_train) # Calcula perda\n",
        "    loss.backward()                 # Calcula derivadas do gradiente\n",
        "\n",
        "    with torch.no_grad():\n",
        "        for param in modelo_clonado.parameters():\n",
        "            param -= learning_rate * param.grad  # regra de atualização de pesos\n",
        "\n",
        "    if (epoch + 1) % 100 == 0:\n",
        "        print(f\"Época [{epoch+1}/1000], Loss: {loss.item():.4f}\")"
      ],
      "metadata": {
        "id": "CW9eAqNJMRD2"
      },
      "execution_count": null,
      "outputs": []
    }
  ]
}